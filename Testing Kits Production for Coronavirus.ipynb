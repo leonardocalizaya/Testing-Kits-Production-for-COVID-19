{
 "cells": [
  {
   "cell_type": "markdown",
   "metadata": {},
   "source": [
    "# Testing Kits Production for Coronavirus (COVID-19) in the U.S.\n",
    "By: Leonardo Calizaya"
   ]
  },
  {
   "cell_type": "code",
   "execution_count": null,
   "metadata": {},
   "outputs": [],
   "source": []
  },
  {
   "cell_type": "code",
   "execution_count": 12,
   "metadata": {},
   "outputs": [
    {
     "name": "stdout",
     "output_type": "stream",
     "text": [
      "                    State  Center 1  Center 2  Center 3\n",
      "1                .Alabama     3.302     1.228     2.251\n",
      "2                 .Alaska     3.933     6.221     6.780\n",
      "3                .Arizona     1.530     3.016     3.904\n",
      "4               .Arkansas     2.903     1.630     2.546\n",
      "5             .California     1.000     3.529     4.372\n",
      "6               .Colorado     1.979     2.602     3.393\n",
      "7            .Connecticut     4.263     1.971     1.110\n",
      "8               .Delaware     4.059     1.705     1.366\n",
      "9   .District of Columbia     3.954     1.618     1.462\n",
      "10               .Florida     3.644     1.292     2.221\n",
      "11               .Georgia     3.529     1.000     2.070\n",
      "12                .Hawaii     3.795     6.137     7.096\n",
      "13                 .Idaho     1.614     3.276     3.980\n",
      "14              .Illinois     3.109     1.658     2.263\n",
      "15               .Indiana     3.329     1.526     2.046\n",
      "16                  .Iowa     2.846     1.948     2.538\n",
      "17                .Kansas     2.491     2.093     2.884\n",
      "18              .Kentucky     3.382     1.361     2.023\n",
      "19             .Louisiana     2.963     1.602     2.629\n",
      "20                 .Maine     4.535     2.334     1.285\n",
      "21              .Maryland     3.985     1.644     1.432\n",
      "22         .Massachusetts     4.372     2.070     1.000\n",
      "23              .Michigan     3.419     1.846     2.008\n",
      "24             .Minnesota     2.886     2.205     2.608\n",
      "25           .Mississippi     3.111     1.421     2.423\n",
      "26              .Missouri     2.888     1.730     2.492\n",
      "27               .Montana     2.005     3.046     3.650\n",
      "28              .Nebraska     2.413     2.277     2.971\n",
      "29                .Nevada     1.267     3.374     4.169\n",
      "30         .New Hampshire     4.366     2.117     1.094\n",
      "31            .New Jersey     4.119     1.800     1.276\n",
      "32            .New Mexico     1.977     2.555     3.450\n",
      "33              .New York     4.070     1.887     1.314\n",
      "34        .North Carolina     3.805     1.352     1.720\n",
      "35          .North Dakota     2.520     2.557     3.047\n",
      "36                  .Ohio     3.563     1.544     1.810\n",
      "37              .Oklahoma     2.547     1.986     2.868\n",
      "38                .Oregon     1.479     3.670     4.398\n",
      "39          .Pennsylvania     3.907     1.689     1.466\n",
      "40          .Rhode Island     4.341     2.028     1.044\n",
      "41        .South Carolina     3.692     1.198     1.876\n",
      "42          .South Dakota     2.453     2.401     2.994\n",
      "43             .Tennessee     3.305     1.301     2.139\n",
      "44                 .Texas     2.470     2.104     3.087\n",
      "45                  .Utah     1.585     2.998     3.795\n",
      "46               .Vermont     4.291     2.095     1.175\n",
      "47              .Virginia     3.848     1.479     1.598\n",
      "48            .Washington     1.687     3.759     4.434\n",
      "49         .West Virginia     3.697     1.456     1.701\n",
      "50             .Wisconsin     3.149     1.917     2.274\n",
      "51               .Wyoming     1.979     2.764     3.460\n"
     ]
    }
   ],
   "source": [
    "import numpy as np\n",
    "import pandas as pd\n",
    "\n",
    "D = list(range(1, 52)) #A list of numbers from 1 to 51 representing the 51 US states.\n",
    "S = {1:\"Center 1\", 2: \"Center 2\", 3: \"Center 3\"} #A list of numbers from 1 to 3 representing the 3 distribution centers.\n",
    "\n",
    "var_x = [(d, s) for d in D for s in S]\n",
    "var_x_name = [f\"x[{d}, {s}]\" for (d, s) in var_x]\n",
    "\n",
    "shipping_cost = 0.001 #Cost per mile to carry one testing kit.\n",
    "production_cost = 1 #Cost to produce one testing kit.\n",
    "\n",
    "center_capacity = {1: 1500000, 2: 1200000, 3: 1350000}\n",
    "\n",
    "data = pd.read_excel(\"Project_Data2.xlsx\", index_col = 0) #An excel sheet with the centers as column names and states a row indexes, each number represents the number of miles.\n",
    "\n",
    "total_cost = pd.DataFrame(data[[\"State\", \"Center 1\", \"Center 2\", \"Center 3\"]])\n",
    "for center in S:\n",
    "    total_cost[S[center]] = total_cost[S[center]]*shipping_cost + production_cost\n",
    "    \n",
    "print(total_cost)"
   ]
  },
  {
   "cell_type": "code",
   "execution_count": 13,
   "metadata": {},
   "outputs": [
    {
     "name": "stdout",
     "output_type": "stream",
     "text": [
      "Gurobi Optimizer version 9.0.3 build v9.0.3rc0 (mac64)\n",
      "Optimize a model with 54 rows, 153 columns and 306 nonzeros\n",
      "Model fingerprint: 0x1914a842\n",
      "Coefficient statistics:\n",
      "  Matrix range     [1e+00, 1e+00]\n",
      "  Objective range  [1e+00, 7e+00]\n",
      "  Bounds range     [0e+00, 0e+00]\n",
      "  RHS range        [6e+03, 2e+06]\n",
      "Presolve time: 0.01s\n",
      "Presolved: 54 rows, 153 columns, 306 nonzeros\n",
      "\n",
      "Iteration    Objective       Primal Inf.    Dual Inf.      Time\n",
      "       0    0.0000000e+00   3.087481e+06   0.000000e+00      0s\n",
      "      59    4.7768268e+06   0.000000e+00   0.000000e+00      0s\n",
      "\n",
      "Solved in 59 iterations and 0.01 seconds\n",
      "Optimal objective  4.776826770e+06\n",
      "x[1, 1] 0\n",
      "x[1, 2] 47798\n",
      "x[1, 3] 0\n",
      "x[2, 1] 7103\n",
      "x[2, 2] 0\n",
      "x[2, 3] 0\n",
      "x[3, 1] 63921\n",
      "x[3, 2] 0\n",
      "x[3, 3] 0\n",
      "x[4, 1] 0\n",
      "x[4, 2] 29160\n",
      "x[4, 3] 0\n",
      "x[5, 1] 372540\n",
      "x[5, 2] 0\n",
      "x[5, 3] 0\n",
      "x[6, 1] 50292\n",
      "x[6, 2] 0\n",
      "x[6, 3] 0\n",
      "x[7, 1] 0\n",
      "x[7, 2] 0\n",
      "x[7, 3] 35741\n",
      "x[8, 1] 0\n",
      "x[8, 2] 0\n",
      "x[8, 3] 8980\n",
      "x[9, 1] 0\n",
      "x[9, 2] 0\n",
      "x[9, 3] 6018\n",
      "x[10, 1] 0\n",
      "x[10, 2] 188014\n",
      "x[10, 3] 0\n",
      "x[11, 1] 0\n",
      "x[11, 2] 96877\n",
      "x[11, 3] 0\n",
      "x[12, 1] 13604\n",
      "x[12, 2] 0\n",
      "x[12, 3] 0\n",
      "x[13, 1] 15676\n",
      "x[13, 2] 0\n",
      "x[13, 3] 0\n",
      "x[14, 1] 0\n",
      "x[14, 2] 128307\n",
      "x[14, 3] 0\n",
      "x[15, 1] 0\n",
      "x[15, 2] 64839\n",
      "x[15, 3] 0\n",
      "x[16, 1] 0\n",
      "x[16, 2] 30464\n",
      "x[16, 3] 0\n",
      "x[17, 1] 28532\n",
      "x[17, 2] 0\n",
      "x[17, 3] 0\n",
      "x[18, 1] 0\n",
      "x[18, 2] 43394\n",
      "x[18, 3] 0\n",
      "x[19, 1] 0\n",
      "x[19, 2] 45334\n",
      "x[19, 3] 0\n",
      "x[20, 1] 0\n",
      "x[20, 2] 0\n",
      "x[20, 3] 13284\n",
      "x[21, 1] 0\n",
      "x[21, 2] 0\n",
      "x[21, 3] 57736\n",
      "x[22, 1] 0\n",
      "x[22, 2] 0\n",
      "x[22, 3] 65477\n",
      "x[23, 1] 0\n",
      "x[23, 2] 0\n",
      "x[23, 3] 98837\n",
      "x[24, 1] 0\n",
      "x[24, 2] 53040\n",
      "x[24, 3] 0\n",
      "x[25, 1] 0\n",
      "x[25, 2] 29673\n",
      "x[25, 3] 0\n",
      "x[26, 1] 0\n",
      "x[26, 2] 59890\n",
      "x[26, 3] 0\n",
      "x[27, 1] 9895\n",
      "x[27, 2] 0\n",
      "x[27, 3] 0\n",
      "x[28, 1] 18264\n",
      "x[28, 2] 0\n",
      "x[28, 3] 0\n",
      "x[29, 1] 27006\n",
      "x[29, 2] 0\n",
      "x[29, 3] 0\n",
      "x[30, 1] 0\n",
      "x[30, 2] 0\n",
      "x[30, 3] 13165\n",
      "x[31, 1] 0\n",
      "x[31, 2] 0\n",
      "x[31, 3] 87919\n",
      "x[32, 1] 20592\n",
      "x[32, 2] 0\n",
      "x[32, 3] 0\n",
      "x[33, 1] 0\n",
      "x[33, 2] 0\n",
      "x[33, 3] 193782\n",
      "x[34, 1] 0\n",
      "x[34, 2] 95355\n",
      "x[34, 3] 0\n",
      "x[35, 1] 6726\n",
      "x[35, 2] 0\n",
      "x[35, 3] 0\n",
      "x[36, 1] 0\n",
      "x[36, 2] 0\n",
      "x[36, 3] 115366\n",
      "x[37, 1] 0\n",
      "x[37, 2] 37514\n",
      "x[37, 3] 0\n",
      "x[38, 1] 38311\n",
      "x[38, 2] 0\n",
      "x[38, 3] 0\n",
      "x[39, 1] 0\n",
      "x[39, 2] 0\n",
      "x[39, 3] 127024\n",
      "x[40, 1] 0\n",
      "x[40, 2] 0\n",
      "x[40, 3] 10526\n",
      "x[41, 1] 0\n",
      "x[41, 2] 46254\n",
      "x[41, 3] 0\n",
      "x[42, 1] 8142\n",
      "x[42, 2] 0\n",
      "x[42, 3] 0\n",
      "x[43, 1] 0\n",
      "x[43, 2] 63462\n",
      "x[43, 3] 0\n",
      "x[44, 1] 110831\n",
      "x[44, 2] 140625\n",
      "x[44, 3] 0\n",
      "x[45, 1] 27639\n",
      "x[45, 2] 0\n",
      "x[45, 3] 0\n",
      "x[46, 1] 0\n",
      "x[46, 2] 0\n",
      "x[46, 3] 6258\n",
      "x[47, 1] 0\n",
      "x[47, 2] 0\n",
      "x[47, 3] 80011\n",
      "x[48, 1] 67246\n",
      "x[48, 2] 0\n",
      "x[48, 3] 0\n",
      "x[49, 1] 0\n",
      "x[49, 2] 0\n",
      "x[49, 3] 18530\n",
      "x[50, 1] 0\n",
      "x[50, 2] 0\n",
      "x[50, 3] 56870\n",
      "x[51, 1] 5637\n",
      "x[51, 2] 0\n",
      "x[51, 3] 0\n"
     ]
    }
   ],
   "source": [
    "total_cost.loc[17, 'Center 2'] = 2.2\n",
    "from gurobipy import *\n",
    "\n",
    "try:\n",
    "    m = Model(\"mip1\")\n",
    "    \n",
    "    x = m.addVars(var_x, vtype = GRB.CONTINUOUS, name = var_x_name)\n",
    "    \n",
    "    # (1) Each state must satisfy the demand of testing kits.\n",
    "    cons1 = m.addConstrs(((sum(x[d, s] for s in S) >= data.loc[d, \"Demand\"]) for d in D))\n",
    "    \n",
    "    # (2) Each center has a maximum number of kits that they can produce.   \n",
    "    \n",
    "    cons2 = m.addConstrs(((sum(x[d, s] for d in D) <= center_capacity[s]) for s in S))\n",
    "    \n",
    "    m.setObjective(sum(sum(x[d, s]*total_cost.loc[d, S[s]] for s in S) for d in D))\n",
    "    \n",
    "    m.optimize()\n",
    "    \n",
    "    for v in m.getVars():\n",
    "        print('%s %g' % (v.varName, v.x))\n",
    "    \n",
    "    \n",
    "except GurobiError as e:\n",
    "    print('Error code ' + str(e.errno) + \": \" + str(e))\n",
    "\n",
    "except AttributeError:\n",
    "    print('Encountered an attribute error')"
   ]
  },
  {
   "cell_type": "code",
   "execution_count": 14,
   "metadata": {},
   "outputs": [
    {
     "data": {
      "text/plain": [
       "inf"
      ]
     },
     "execution_count": 14,
     "metadata": {},
     "output_type": "execute_result"
    }
   ],
   "source": [
    "x[17, 2].Obj\n",
    "x[17, 2].SAObjLow\n",
    "x[17, 2].SAObjUp"
   ]
  },
  {
   "cell_type": "code",
   "execution_count": 15,
   "metadata": {
    "scrolled": true
   },
   "outputs": [
    {
     "name": "stdout",
     "output_type": "stream",
     "text": [
      "-0.36599999999999966\n",
      "-1\n",
      "1059375.0\n",
      "1310831.0\n",
      "1200000.0\n",
      "0.0\n"
     ]
    }
   ],
   "source": [
    "print(cons2[2].Pi)\n",
    "print(cons2[2].CBasis)\n",
    "print(cons2[2].SARHSLow)\n",
    "print(cons2[2].SARHSUp)\n",
    "print(cons2[2].RHS)\n",
    "print(cons2[2].Slack)"
   ]
  },
  {
   "cell_type": "markdown",
   "metadata": {},
   "source": [
    "ANALYSIS"
   ]
  },
  {
   "cell_type": "markdown",
   "metadata": {},
   "source": [
    "Using sensivity analysis from our previous result, we can discuss certain decisions that may be implemented in the testing kits productions for COVID-19. We will answer to some questions that will give us business insights."
   ]
  },
  {
   "cell_type": "markdown",
   "metadata": {},
   "source": [
    "1. How much the unit shipping cost from Kansas to the manufacturing center 2 can increase (assuming no change in the costs for the other states) before the current optimal solution would no longer be optimal?\n",
    "\n",
    "To answer this question, we would need to look if the dual solution of our linear program changes if w"
   ]
  },
  {
   "cell_type": "code",
   "execution_count": 16,
   "metadata": {},
   "outputs": [
    {
     "name": "stdout",
     "output_type": "stream",
     "text": [
      "0.07499999999999973\n",
      "inf\n"
     ]
    }
   ],
   "source": [
    "print(x[17,2].RC)\n",
    "print(x[17,2].SAObjUp)"
   ]
  },
  {
   "cell_type": "code",
   "execution_count": 18,
   "metadata": {},
   "outputs": [
    {
     "data": {
      "text/plain": [
       "3087481.0"
      ]
     },
     "execution_count": 18,
     "metadata": {},
     "output_type": "execute_result"
    }
   ],
   "source": [
    "suma = 0\n",
    "for a in m.getVars():\n",
    "    suma += a.x\n",
    "suma"
   ]
  },
  {
   "cell_type": "code",
   "execution_count": null,
   "metadata": {},
   "outputs": [],
   "source": []
  }
 ],
 "metadata": {
  "kernelspec": {
   "display_name": "Python 3",
   "language": "python",
   "name": "python3"
  },
  "language_info": {
   "codemirror_mode": {
    "name": "ipython",
    "version": 3
   },
   "file_extension": ".py",
   "mimetype": "text/x-python",
   "name": "python",
   "nbconvert_exporter": "python",
   "pygments_lexer": "ipython3",
   "version": "3.8.3"
  }
 },
 "nbformat": 4,
 "nbformat_minor": 4
}
